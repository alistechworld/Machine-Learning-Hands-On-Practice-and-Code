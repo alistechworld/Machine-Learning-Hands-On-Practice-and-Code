{
  "nbformat": 4,
  "nbformat_minor": 0,
  "metadata": {
    "colab": {
      "provenance": [],
      "authorship_tag": "ABX9TyOGoHEkK9oSLJ0vE6UDX+y3",
      "include_colab_link": true
    },
    "kernelspec": {
      "name": "python3",
      "display_name": "Python 3"
    },
    "language_info": {
      "name": "python"
    }
  },
  "cells": [
    {
      "cell_type": "markdown",
      "metadata": {
        "id": "view-in-github",
        "colab_type": "text"
      },
      "source": [
        "<a href=\"https://colab.research.google.com/github/alistechworld/Machine-Learning-Hands-On-Practice-and-Code/blob/main/Day_5_ML.ipynb\" target=\"_parent\"><img src=\"https://colab.research.google.com/assets/colab-badge.svg\" alt=\"Open In Colab\"/></a>"
      ]
    },
    {
      "cell_type": "code",
      "execution_count": 1,
      "metadata": {
        "id": "CLZrfqKqjo1x"
      },
      "outputs": [],
      "source": [
        "import pandas as pd\n",
        "import requests\n",
        "from bs4 import BeautifulSoup\n",
        "import numpy as np"
      ]
    },
    {
      "cell_type": "code",
      "source": [
        "# # if response code is 403\n",
        "# import requests\n",
        "\n",
        "# headers = {\n",
        "#     'User-Agent': 'Mozilla/5.0 (Windows NT 6.3; Win64; x64) AppleWebKit/537.36 (KHTML, like Gecko) Chrome/80.0.3987.162 Safari/537.36'\n",
        "# }\n",
        "\n",
        "# url = 'https://www.ambitionbox.com/list-of-companies?page=1'  # Replace this with your actual target URL\n",
        "# response = requests.get(url, headers=headers)\n",
        "\n",
        "# print(response.text)"
      ],
      "metadata": {
        "id": "rD-XqrZzj-MC"
      },
      "execution_count": 8,
      "outputs": []
    },
    {
      "cell_type": "code",
      "source": [
        "# requests.get('https://www.ambitionbox.com/list-of-companies?page=1').text"
      ],
      "metadata": {
        "id": "tvXQPzyakHQe"
      },
      "execution_count": 9,
      "outputs": []
    },
    {
      "cell_type": "code",
      "source": [
        "# soup = BeautifulSoup(webpage, 'lxml')"
      ],
      "metadata": {
        "id": "WMiwnLQ0kRs4"
      },
      "execution_count": 10,
      "outputs": []
    },
    {
      "cell_type": "code",
      "source": [
        "# print(soup.prettify())"
      ],
      "metadata": {
        "id": "wFYv9-juliqg"
      },
      "execution_count": 11,
      "outputs": []
    },
    {
      "cell_type": "code",
      "source": [
        "# soup.find_all('h1')[0].text"
      ],
      "metadata": {
        "id": "0Cc9Rtsflm6w"
      },
      "execution_count": 12,
      "outputs": []
    },
    {
      "cell_type": "code",
      "source": [
        "# # To find out names of the companies\n",
        "\n",
        "# for i in soup.find_all('h2'):\n",
        "#   print(i.text.strip())"
      ],
      "metadata": {
        "id": "fPtGLIlDlrvU"
      },
      "execution_count": 14,
      "outputs": []
    },
    {
      "cell_type": "code",
      "source": [
        "# for i in soup.find_all('p'):\n",
        "#   print(i.text.strip())"
      ],
      "metadata": {
        "id": "b4gBFeTrmBK8"
      },
      "execution_count": 15,
      "outputs": []
    },
    {
      "cell_type": "code",
      "source": [
        "# for in soup.find_all('p'):\n",
        "#   print(i.text.strip())"
      ],
      "metadata": {
        "id": "aQ5CKl6XmIkq"
      },
      "execution_count": 16,
      "outputs": []
    },
    {
      "cell_type": "code",
      "source": [
        "# # To find out the ratings\n",
        "# len(soup.find_all('p', class_='rating'))"
      ],
      "metadata": {
        "id": "S7kqVpxImUHZ"
      },
      "execution_count": 17,
      "outputs": []
    },
    {
      "cell_type": "code",
      "source": [
        "# # To find out the number of reviews\n",
        "# len(soup.find_all('a', class_='review-count'))"
      ],
      "metadata": {
        "id": "v5GRgC3TmdBg"
      },
      "execution_count": 18,
      "outputs": []
    },
    {
      "cell_type": "code",
      "source": [
        "# # Considering the whole container\n",
        "# company = soup.find_all('div', class_='company-content-wrapper')"
      ],
      "metadata": {
        "id": "Z8LH-t6kmqch"
      },
      "execution_count": 19,
      "outputs": []
    },
    {
      "cell_type": "code",
      "source": [
        "# # Considering the whole container\n",
        "# len(company)"
      ],
      "metadata": {
        "id": "yc7-xmRSm7vz"
      },
      "execution_count": 20,
      "outputs": []
    },
    {
      "cell_type": "code",
      "source": [
        "# name=[]\n",
        "# rating=[]\n",
        "# reviews=[]\n",
        "# ctype=[]\n",
        "# hq=[]\n",
        "# how_old=[]\n",
        "# no_of_employee=[]\n",
        "\n",
        "# for i in company:\n",
        "\n",
        "#   name.append(i.find('h2').text.strip())\n",
        "#   rating.append(i.find('p',class_='rating').text.strip())\n",
        "#   reviews.append(i.find('a' , class_='review-count').text.strip())\n",
        "#   ctype.append(i.find_all('p',class_='infoEntity')[0].text.strip())\n",
        "#   hq.append(i.find_all('p',class_='infoEntity')[1].text.strip())\n",
        "#   how_old.append(i.find_all('p',class_='infoEntity')[2].text.strip())\n",
        "#   no_of_employee.append(i.find_all('p',class_='infoEntity')[3].text.strip())\n",
        "\n",
        "# df=pd.DataFrame({'name':name,\n",
        "#    'rating':rating,\n",
        "#    'reviews':reviews,\n",
        "#    'company_type':ctype,\n",
        "#    'Head_Quarters':hq,\n",
        "#    'Company_Age':how_old,\n",
        "#    'No_of_Employee':no_of_employee,\n",
        "#    })"
      ],
      "metadata": {
        "id": "0NiSY2i_nK0h"
      },
      "execution_count": 21,
      "outputs": []
    },
    {
      "cell_type": "code",
      "source": [],
      "metadata": {
        "id": "qSlH3H_NoeLV"
      },
      "execution_count": null,
      "outputs": []
    }
  ]
}